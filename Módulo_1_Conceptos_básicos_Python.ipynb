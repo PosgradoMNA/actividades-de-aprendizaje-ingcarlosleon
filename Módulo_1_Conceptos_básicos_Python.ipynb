{
  "nbformat": 4,
  "nbformat_minor": 0,
  "metadata": {
    "colab": {
      "provenance": [],
      "collapsed_sections": [],
      "authorship_tag": "ABX9TyPVjVtky0jAz95aish692JK",
      "include_colab_link": true
    },
    "kernelspec": {
      "name": "python3",
      "display_name": "Python 3"
    },
    "language_info": {
      "name": "python"
    }
  },
  "cells": [
    {
      "cell_type": "markdown",
      "metadata": {
        "id": "view-in-github",
        "colab_type": "text"
      },
      "source": [
        "<a href=\"https://colab.research.google.com/github/PosgradoMNA/actividades-de-aprendizaje-ingcarlosleon/blob/main/M%C3%B3dulo_1_Conceptos_b%C3%A1sicos_Python.ipynb\" target=\"_parent\"><img src=\"https://colab.research.google.com/assets/colab-badge.svg\" alt=\"Open In Colab\"/></a>"
      ]
    },
    {
      "cell_type": "markdown",
      "source": [
        "**Módulo 1 - Conceptos básicos de Python**\n",
        "\n",
        "* Objetivos de aprendizaje\n",
        "* Tu primer programa\n",
        "* Tipos de datos\n",
        "* Expresiones y variables\n",
        "Laboratorio - ¡Escriba su primer código de Python!\n",
        "Operaciones con cadenas (3:53)\n",
        "Práctica de laboratorio: operaciones con cadenas\n",
        "Preguntas de revisión (5 preguntas)\n",
        "Preguntas de revisión Este contenido está calificado\n",
        " Módulo 2 - Estructuras de datos de Python\n",
        " Módulo 3 - Fundamentos de programación Python\n",
        " Módulo 4 - Trabajar con datos en Python\n",
        " Módulo 5: Trabajar con Numpy Arrays y API simples\n",
        " Resumen del curso\n",
        " Examen final\n",
        " Comentarios sobre el curso\n",
        " Certificado de finalización e insignia\n",
        "Herramientas del curso\n",
        "Marcadores\n",
        "Actualizaciones\n",
        "Folletos del curso\n",
        "Hoja de trucos de Python: conceptos básicos\n",
        "\n",
        "*   Elemento de lista\n",
        "\n",
        "*   Elemento de lista\n",
        "*   Elemento de lista\n",
        "\n",
        "\n",
        "*   Elemento de lista\n",
        "\n",
        "\n",
        "\"\"\""
      ],
      "metadata": {
        "id": "JsDbDlgtA0c2"
      }
    },
    {
      "cell_type": "code",
      "execution_count": 8,
      "metadata": {
        "colab": {
          "base_uri": "https://localhost:8080/"
        },
        "id": "FcTHvM7Y9s9d",
        "outputId": "370daf25-19c2-4edd-d47e-524115b78820"
      },
      "outputs": [
        {
          "output_type": "stream",
          "name": "stdout",
          "text": [
            "Hola Mundo\n"
          ]
        }
      ],
      "source": [
        "\n",
        "print(\"Hola Mundo\")"
      ]
    }
  ]
}