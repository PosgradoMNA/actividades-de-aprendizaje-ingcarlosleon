{
  "nbformat": 4,
  "nbformat_minor": 0,
  "metadata": {
    "colab": {
      "provenance": [],
      "collapsed_sections": [],
      "authorship_tag": "ABX9TyO+uqcqKigjbZPlATBKfmCQ",
      "include_colab_link": true
    },
    "kernelspec": {
      "name": "python3",
      "display_name": "Python 3"
    },
    "language_info": {
      "name": "python"
    }
  },
  "cells": [
    {
      "cell_type": "markdown",
      "metadata": {
        "id": "view-in-github",
        "colab_type": "text"
      },
      "source": [
        "<a href=\"https://colab.research.google.com/github/PosgradoMNA/actividades-de-aprendizaje-ingcarlosleon/blob/main/actividad-semana-1/modulo_1_conceptos_basicos.ipynb\" target=\"_parent\"><img src=\"https://colab.research.google.com/assets/colab-badge.svg\" alt=\"Open In Colab\"/></a>"
      ]
    },
    {
      "cell_type": "markdown",
      "source": [
        "**Módulo 1 - Conceptos básicos de Python**\n",
        "\n",
        "Los objetivos de aprendizaje después de completar este módulo son:\n",
        "\n",
        "* Usted comprenderá los tipos de datos disponibles en Python\n",
        "* Estar familiarizado con las expresiones y variables de Python\n",
        "* Ser capaz de realizar operaciones básicas en cadenas\n",
        "\n",
        "Lo que es más importante, escribirá sus primeros fragmentos de código en  Python utilizando **Google Colab**."
      ],
      "metadata": {
        "id": "JsDbDlgtA0c2"
      }
    },
    {
      "cell_type": "code",
      "execution_count": 17,
      "metadata": {
        "colab": {
          "base_uri": "https://localhost:8080/"
        },
        "id": "FcTHvM7Y9s9d",
        "outputId": "e9abac2e-d4f4-4f33-cfab-c66e772337d1"
      },
      "outputs": [
        {
          "output_type": "stream",
          "name": "stdout",
          "text": [
            "Hola Mundo\n"
          ]
        }
      ],
      "source": [
        "#Tu primer programa\n",
        "print(\"Hola Mundo\")"
      ]
    },
    {
      "cell_type": "markdown",
      "source": [
        "**Algunos Tipos de datos**\n",
        "\n",
        "* Enteros\n",
        "* Flotante\n",
        "* Booleanos\n",
        "* Cadenas de texto\n"
      ],
      "metadata": {
        "id": "z7GNjX9fEYHV"
      }
    },
    {
      "cell_type": "code",
      "source": [
        "#Algunos tipos de datos\n",
        "int(1)\n",
        "int(1.1) #Muestra el número 1 \n",
        "float(15.23)\n",
        "bool(1)\n",
        "str(\"Hola Mundo\")\n",
        "\n",
        "#print(int(\"A\")) Error, el parametro recibido debe ser un número\n",
        "print(\"Tipos de datos: \", type(1), type(15.23), type(True), type(\"Hola Mundo\"))\n",
        "print(\"Entero: \", int(1))\n",
        "print(\"Flotante: \", float(15.23))\n",
        "print(\"Booleano: \", bool(1))\n",
        "print(\"Cadena de texto: \", str(\"Hola Mundo\"))"
      ],
      "metadata": {
        "colab": {
          "base_uri": "https://localhost:8080/"
        },
        "id": "U3AEZfsGG2sL",
        "outputId": "f0bb3321-730a-4a87-f24e-7890f0f8c96e"
      },
      "execution_count": 48,
      "outputs": [
        {
          "output_type": "stream",
          "name": "stdout",
          "text": [
            "Tipos de datos:  <class 'int'> <class 'float'> <class 'bool'> <class 'str'>\n",
            "Entero:  1\n",
            "Flotante:  15.23\n",
            "Booleano:  True\n",
            "Cadena de texto:  Hola Mundo\n"
          ]
        }
      ]
    },
    {
      "cell_type": "markdown",
      "source": [
        "**Expresiones y variables**\n",
        "\n",
        "Las expresiones son operaciones que realiza Python. Por ejemplo operaciones aritméticas básicas como sumas, restas, etc."
      ],
      "metadata": {
        "id": "KDq4Zs7vNlqZ"
      }
    },
    {
      "cell_type": "code",
      "source": [],
      "metadata": {
        "id": "eLA6vpP_NyFn"
      },
      "execution_count": null,
      "outputs": []
    }
  ]
}