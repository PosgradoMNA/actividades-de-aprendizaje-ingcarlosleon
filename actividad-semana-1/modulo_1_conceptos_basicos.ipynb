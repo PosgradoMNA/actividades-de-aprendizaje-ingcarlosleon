{
  "nbformat": 4,
  "nbformat_minor": 0,
  "metadata": {
    "colab": {
      "provenance": [],
      "collapsed_sections": [],
      "authorship_tag": "ABX9TyM6utlTCi4LtxX3BbYlZlIH",
      "include_colab_link": true
    },
    "kernelspec": {
      "name": "python3",
      "display_name": "Python 3"
    },
    "language_info": {
      "name": "python"
    }
  },
  "cells": [
    {
      "cell_type": "markdown",
      "metadata": {
        "id": "view-in-github",
        "colab_type": "text"
      },
      "source": [
        "<a href=\"https://colab.research.google.com/github/PosgradoMNA/actividades-de-aprendizaje-ingcarlosleon/blob/main/actividad-semana-1/modulo_1_conceptos_basicos.ipynb\" target=\"_parent\"><img src=\"https://colab.research.google.com/assets/colab-badge.svg\" alt=\"Open In Colab\"/></a>"
      ]
    },
    {
      "cell_type": "markdown",
      "source": [
        "**Carlos Julio León Caicedo - No. de matricula: A01793947**\n",
        "\n",
        "**Módulo 1 - Conceptos básicos de Python**\n",
        "\n",
        "Los objetivos de aprendizaje después de completar este módulo son:\n",
        "\n",
        "* Usted comprenderá los tipos de datos disponibles en Python\n",
        "* Estar familiarizado con las expresiones y variables de Python\n",
        "* Ser capaz de realizar operaciones básicas en cadenas\n",
        "\n",
        "Lo que es más importante, escribirá sus primeros fragmentos de código en  Python utilizando **Google Colab**."
      ],
      "metadata": {
        "id": "JsDbDlgtA0c2"
      }
    },
    {
      "cell_type": "code",
      "execution_count": null,
      "metadata": {
        "colab": {
          "base_uri": "https://localhost:8080/"
        },
        "id": "FcTHvM7Y9s9d",
        "outputId": "e9abac2e-d4f4-4f33-cfab-c66e772337d1"
      },
      "outputs": [
        {
          "output_type": "stream",
          "name": "stdout",
          "text": [
            "Hola Mundo\n"
          ]
        }
      ],
      "source": [
        "#Tu primer programa\n",
        "print(\"Hola Mundo\")"
      ]
    },
    {
      "cell_type": "markdown",
      "source": [
        "**Algunos Tipos de datos**\n",
        "\n",
        "* Enteros\n",
        "* Flotante\n",
        "* Booleanos\n",
        "* Cadenas de texto\n"
      ],
      "metadata": {
        "id": "z7GNjX9fEYHV"
      }
    },
    {
      "cell_type": "code",
      "source": [
        "#Algunos tipos de datos\n",
        "int(1)\n",
        "int(1.1) #Muestra el número 1 \n",
        "float(15.23)\n",
        "bool(1)\n",
        "str(\"Hola Mundo\")\n",
        "\n",
        "#print(int(\"A\")) Error, el parametro recibido debe ser un número\n",
        "print(\"Tipos de datos: \", type(1), type(15.23), type(True), type(\"Hola Mundo\"))\n",
        "print(\"Entero: \", int(1))\n",
        "print(\"Flotante: \", float(15.23))\n",
        "print(\"Booleano: \", bool(1))\n",
        "print(\"Cadena de texto: \", str(\"Hola Mundo\"))"
      ],
      "metadata": {
        "colab": {
          "base_uri": "https://localhost:8080/"
        },
        "id": "U3AEZfsGG2sL",
        "outputId": "f0bb3321-730a-4a87-f24e-7890f0f8c96e"
      },
      "execution_count": null,
      "outputs": [
        {
          "output_type": "stream",
          "name": "stdout",
          "text": [
            "Tipos de datos:  <class 'int'> <class 'float'> <class 'bool'> <class 'str'>\n",
            "Entero:  1\n",
            "Flotante:  15.23\n",
            "Booleano:  True\n",
            "Cadena de texto:  Hola Mundo\n"
          ]
        }
      ]
    },
    {
      "cell_type": "markdown",
      "source": [
        "**Expresiones y variables**\n",
        "\n",
        "Las expresiones son operaciones que realiza Python. Por ejemplo operaciones aritméticas básicas como sumas, restas, etc.\n",
        "\n",
        "Las variables son usadas para almacenar valores"
      ],
      "metadata": {
        "id": "KDq4Zs7vNlqZ"
      }
    },
    {
      "cell_type": "code",
      "source": [
        "my_variable=\"Mi variable horas_laborales_x_dia contiene: \"\n",
        "horas_laborales_x_dia=8\n",
        "dias_laborales=5\n",
        "producto=dias_laborales*horas_laborales_x_dia\n",
        "\n",
        "print(my_variable, horas_laborales_x_dia, \" y mi variable dias_laborales contiene: \",dias_laborales)\n",
        "print(\"El número de horas trabajadas en la semana es de: \",producto)\n",
        "print(\"Este resultado se obtiene del producto entre horas_laborales_x_dia por dias_laborales.\")\n",
        "\n",
        "#Algunas expresiones y operaciones mátematicas\n",
        "sum = 10 + 10\n",
        "res = 10 - 10\n",
        "mul = 10 * 10\n",
        "div = 10 / 3\n",
        "div_int = 10 // 3 #La doble barra arroja el resultado en tipo de dato entero \n",
        "print(sum,\", \",res,\", \",mul,\", \",div,\", \",div_int)"
      ],
      "metadata": {
        "colab": {
          "base_uri": "https://localhost:8080/"
        },
        "id": "eLA6vpP_NyFn",
        "outputId": "12be058b-088b-402e-a8b9-ea442d51d24b"
      },
      "execution_count": null,
      "outputs": [
        {
          "output_type": "stream",
          "name": "stdout",
          "text": [
            "Mi variable horas_laborales_x_dia contiene:  8  y mi variable dias_laborales contiene:  5\n",
            "El número de horas trabajadas en la semana es de:  40\n",
            "Este resultado se obtiene del producto entre horas_laborales_x_dia por dias_laborales.\n",
            "20 ,  0 ,  100 ,  3.3333333333333335 ,  3\n"
          ]
        }
      ]
    },
    {
      "cell_type": "markdown",
      "source": [
        "**Operaciones con cadenas**\n",
        "\n",
        "En Python, una cadena es una secuencia de caracteres. Una cadena está contenida entre dos comillas.\n",
        "\n",
        "**Tips**\n",
        "* Es útil pensar en la cadena como una lista o una tupla.\n",
        "* Podemos tratar la cadena como una secuencia y realizar operaciones de secuencia.\n",
        "* Las cadenas son inmutables.\n",
        "* Las barras invertidas \"\\\\\" representan el comienzo de las secuencias de escape.Las secuencias de escape representan cadenas que pueden ser difíciles de ingresar. Por ejemplo, las barras invertidas \"\\\\n\" representan una nueva línea. La salida viene dada por una nueva línea después de encontrar las barras invertidas \"\\\\n\". De manera similar, la barra invertida \"\\\\t\" representa una pestaña.\n",
        "* Si se utiliza una barra invertida doble \"\\\\\\\\\". El resultado es una barra invertida después del escape.\n",
        "\n",
        "**Metodos**\n",
        "* Las cadenas son secuencias y, como tales, se aplican métodos que funcionan en listas y tuplas. Las cadenas también tienen un segundo conjunto de métodos."
      ],
      "metadata": {
        "id": "vhObSHUXVs-A"
      }
    },
    {
      "cell_type": "code",
      "source": [
        "Name = \"Michael Jackson\"\n",
        "#No. Elementos  1 2 3 4 5 6 7 8 9  10 11 12 13 14 15\n",
        "#               M i c h a e l   J  a  c  k  s  o  n \n",
        "#[indices]      0 1 2 3 4 5 6 7 8  9  10 11 12 13 14\n",
        "\n",
        "#Name [0] = \"J\" #Esta asignación no es posible\n",
        "#Name[9:11] Muestra los carácteres desde la posición 9 y cuenta 11 elementos desde el primer elemento de la cadena.\n",
        "print(\"Caracteres: \", Name[9:11]) \n",
        "Concatenar = \"Fue un gran artista\"\n",
        "\n",
        "print(\"Muestra todo el contenido de la cadena: \",Name,\"\\n Muestra el contenido de la posición 0: \",Name[0]\n",
        "      ,\"\\nMuestra el contenido de las posiciones 0 a la 3 (Rebanar):\", Name[0:3]\n",
        "      ,\"\\nAl finalizar el conteo de la cadena inicia nuevamente desde la posición 0 con el número de posición -15:\", Name[-15]\n",
        "      ,\"\\nLa posición -1 es la posición del último caracter de la cadena: \", Name[-1]\n",
        "      ,\"\\nTambién podemos ingresar un valor de zancada de la siguiente manera. El 2 indica que seleccionamos cada segunda variable.: \", Name[::2]\n",
        "      ,\"\\nTambién podemos incorporar rebanar. En este caso. devolvemos cada segundo valor: \", Name[0:5:2]\n",
        "      ,\"\\nContar carácateres: \", len(Name)\n",
        "      ,\"\\nConcatenar: \", (Name + \" \" + Concatenar)\n",
        "      ,\"\\nMultiplicar la cadena 3 veces: \", (Name * 3)\n",
        "      ,\"\\nCadena de escape - Salto de línea (\\\\n): \", (Name[0:7] + \"\\n\" + Name[8:17])\n",
        "      ,\"\\nCadena de escape - Tabluador (\\\\t): \", (Name + \"\\t\" + Concatenar) \n",
        "      )\n",
        "print(r\"Lína de escape \\n es un salto de línea.\")#Cuando se incluye la r antes del texto, es cómo si se incluyera el doble backslash.\n",
        "\n",
        "#Metodos para las cadenas\n",
        "A = \"Michael Jackson es el mejor\"\n",
        "B = A.upper();#Metodo upper: cambia a mayuscula una cadena de texto\n",
        "print(\"\\nAlgunos Metodos para las Cadenas:\\n\",A, \"\\n\", B)\n",
        "B = A.replace (\"Michael\", \"Janet\")#Metodo replace: cambia un texto por otro\n",
        "print(\"\\n\",A, \"\\n\", B)\n",
        "#El método find, encuentra subcadenas. El argumento es la subcadena que le gustaría encontrar. La salida es el primer índice de la secuencia.\n",
        "C = Name.find(\"el\")\n",
        "print(\"\\n\",C)\n",
        "\n",
        "Numbers = \"0123456\"\n",
        "print(\"\\n\",Numbers[::2])\n",
        "name = 'Lizz'\n",
        "print(\"\\n\",name[0:2])\n"
      ],
      "metadata": {
        "colab": {
          "base_uri": "https://localhost:8080/"
        },
        "id": "FUpTH5KTV7cb",
        "outputId": "8d87429e-809c-4ffe-9c65-6142ee1f93a1"
      },
      "execution_count": null,
      "outputs": [
        {
          "output_type": "stream",
          "name": "stdout",
          "text": [
            "Caracteres:  ac\n",
            "Muestra todo el contenido de la cadena:  Michael Jackson \n",
            " Muestra el contenido de la posición 0:  M \n",
            "Muestra el contenido de las posiciones 0 a la 3 (Rebanar): Mic \n",
            "Al finalizar el conteo de la cadena inicia nuevamente desde la posición 0 con el número de posición -15: M \n",
            "La posición -1 es la posición del último caracter de la cadena:  n \n",
            "También podemos ingresar un valor de zancada de la siguiente manera. El 2 indica que seleccionamos cada segunda variable.:  McalJcsn \n",
            "También podemos incorporar rebanar. En este caso. devolvemos cada segundo valor:  Mca \n",
            "Contar carácateres:  15 \n",
            "Concatenar:  Michael Jackson Fue un gran artista \n",
            "Multiplicar la cadena 3 veces:  Michael JacksonMichael JacksonMichael Jackson \n",
            "Cadena de escape - Salto de línea (\\n):  Michael\n",
            "Jackson \n",
            "Cadena de escape - Tabluador (\\t):  Michael Jackson\tFue un gran artista\n",
            "Lína de escape \\n es un salto de línea.\n",
            "\n",
            "Algunos Metodos para las Cadenas:\n",
            " Michael Jackson es el mejor \n",
            " MICHAEL JACKSON ES EL MEJOR\n",
            "\n",
            " Michael Jackson es el mejor \n",
            " Janet Jackson es el mejor\n",
            "\n",
            " 5\n",
            "\n",
            " 0246\n",
            "\n",
            " Li\n"
          ]
        }
      ]
    }
  ]
}