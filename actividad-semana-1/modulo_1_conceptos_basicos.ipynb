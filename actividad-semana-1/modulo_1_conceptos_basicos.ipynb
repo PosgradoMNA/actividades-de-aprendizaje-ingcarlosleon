{
  "nbformat": 4,
  "nbformat_minor": 0,
  "metadata": {
    "colab": {
      "provenance": [],
      "collapsed_sections": [],
      "authorship_tag": "ABX9TyMrjGpcxdEM3Vqh0dwM4OgA",
      "include_colab_link": true
    },
    "kernelspec": {
      "name": "python3",
      "display_name": "Python 3"
    },
    "language_info": {
      "name": "python"
    }
  },
  "cells": [
    {
      "cell_type": "markdown",
      "metadata": {
        "id": "view-in-github",
        "colab_type": "text"
      },
      "source": [
        "<a href=\"https://colab.research.google.com/github/PosgradoMNA/actividades-de-aprendizaje-ingcarlosleon/blob/main/actividad-semana-1/modulo_1_conceptos_basicos.ipynb\" target=\"_parent\"><img src=\"https://colab.research.google.com/assets/colab-badge.svg\" alt=\"Open In Colab\"/></a>"
      ]
    },
    {
      "cell_type": "markdown",
      "source": [
        "**Módulo 1 - Conceptos básicos de Python**\n",
        "\n",
        "Los objetivos de aprendizaje después de completar este módulo son:\n",
        "\n",
        "* Usted comprenderá los tipos de datos disponibles en Python\n",
        "* Estar familiarizado con las expresiones y variables de Python\n",
        "* Ser capaz de realizar operaciones básicas en cadenas\n",
        "\n",
        "Lo que es más importante, escribirá sus primeros fragmentos de código en  Python utilizando **Google Colab**."
      ],
      "metadata": {
        "id": "JsDbDlgtA0c2"
      }
    },
    {
      "cell_type": "code",
      "execution_count": 12,
      "metadata": {
        "colab": {
          "base_uri": "https://localhost:8080/"
        },
        "id": "FcTHvM7Y9s9d",
        "outputId": "9b62604d-5a3b-4525-87f9-1e2a3e41b88d"
      },
      "outputs": [
        {
          "output_type": "stream",
          "name": "stdout",
          "text": [
            "Hola Mundo\n"
          ]
        }
      ],
      "source": [
        "#Tu primer programa#\n",
        "print(\"Hola Mundo\")"
      ]
    },
    {
      "cell_type": "markdown",
      "source": [
        "**Tipos de datos**\n"
      ],
      "metadata": {
        "id": "z7GNjX9fEYHV"
      }
    }
  ]
}