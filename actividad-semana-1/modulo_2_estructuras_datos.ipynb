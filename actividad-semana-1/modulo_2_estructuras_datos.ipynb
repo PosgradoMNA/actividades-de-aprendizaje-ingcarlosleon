{
  "nbformat": 4,
  "nbformat_minor": 0,
  "metadata": {
    "colab": {
      "provenance": [],
      "collapsed_sections": [],
      "authorship_tag": "ABX9TyPSdxAe7fuRhpZD82wEVyBN",
      "include_colab_link": true
    },
    "kernelspec": {
      "name": "python3",
      "display_name": "Python 3"
    },
    "language_info": {
      "name": "python"
    }
  },
  "cells": [
    {
      "cell_type": "markdown",
      "metadata": {
        "id": "view-in-github",
        "colab_type": "text"
      },
      "source": [
        "<a href=\"https://colab.research.google.com/github/PosgradoMNA/actividades-de-aprendizaje-ingcarlosleon/blob/main/actividad-semana-1/modulo_2_estructuras_datos.ipynb\" target=\"_parent\"><img src=\"https://colab.research.google.com/assets/colab-badge.svg\" alt=\"Open In Colab\"/></a>"
      ]
    },
    {
      "cell_type": "markdown",
      "source": [
        "**Carlos Julio León Caicedo - No. de matricula: A01793947**\n",
        "\n",
        "**Módulo 2 - Estructuras de datos de Python** \n",
        "\n",
        "**Objetivos de aprendizaje**\n",
        "\n",
        "En esta lección aprenderás sobre:\n",
        "* Listas y Tuplas: Las **tuplas** son una secuencia ordenada de datos representada con parentesís (), **son inmutables**. Las **listas** tambien son una secuencia ordenada de datos representadas con corcehetes [], las listas son como tuplas, **una diferencia clave es que son mutables**. \n",
        "* Conjuntos\n",
        "* Diccionarios\n"
      ],
      "metadata": {
        "id": "_AznhVfNS4ez"
      }
    },
    {
      "cell_type": "code",
      "source": [
        "Tupla = (10, 12.56, (\"pop\", \"rock\"), \"regae\")\n",
        "print(\"Tupla: \",Tupla, \" - \",Tupla[2][1])\n",
        "#Tupla[2][1] = \"salsa\"; No es posible, las Tuplas son inmutables\n",
        "\n",
        "Lista = [10, 12.56, [\"pop\", \"rock\"], \"regae\"]\n",
        "Lista2 = Lista[:]#La variable \"Lista\" hace referencia a una lista. La variable \"Lista2\" hace referencia a una nueva copia o clon de la lista original.\n",
        "print(\"\\nLista: \",Lista,\" - \", Lista[2][1])\n",
        "Lista[2][1] = \"salsa\"; #Si es posible, laslistas son mutables\n",
        "print(\"\\nLista: \",Lista,\" - \", Lista[2][1])\n",
        "Lista.extend([\"house\",\"tecno\"]);\n",
        "print(\"\\nLista: \",Lista,\" - \", Lista[2][1])\n",
        "print(\"\\nLista2: \",Lista2)"
      ],
      "metadata": {
        "colab": {
          "base_uri": "https://localhost:8080/"
        },
        "id": "hmE8ilT_GZBv",
        "outputId": "26667f38-f712-4c38-d19b-8aec5648039f"
      },
      "execution_count": null,
      "outputs": [
        {
          "output_type": "stream",
          "name": "stdout",
          "text": [
            "Tupla:  (10, 12.56, ('pop', 'rock'), 'regae')  -  rock\n",
            "\n",
            "Lista:  [10, 12.56, ['pop', 'rock'], 'regae']  -  rock\n",
            "\n",
            "Lista:  [10, 12.56, ['pop', 'salsa'], 'regae']  -  salsa\n",
            "\n",
            "Lista:  [10, 12.56, ['pop', 'salsa'], 'regae', 'house', 'tecno']  -  salsa\n",
            "\n",
            "Lista2:  [10, 12.56, ['pop', 'salsa'], 'regae']\n"
          ]
        }
      ]
    },
    {
      "cell_type": "markdown",
      "source": [
        "**Conjuntos**\n",
        "\n",
        "* Los conjuntos son un tipo de colección. Esto significa que, al igual que las listas y las tuplas, puede ingresar diferentes tipos de python. A diferencia de las listas y las tuplas, están desordenadas.\n",
        "*  Los conjuntos solo tienen elementos únicos. Esto significa que solo hay uno de un elemento particular en un conjunto.\n",
        "* Para la intersección se puede utilizar el &\n"
      ],
      "metadata": {
        "id": "z7GNjX9fEYHV"
      }
    },
    {
      "cell_type": "code",
      "source": [
        "#Creando un conjunto\n",
        "Conjunto = {\"rock\",\"vallenato\", \"regueton\", \"merenge\", \"pop\", \"rock\", \"regae\", \"rock\"}\n",
        "print(\"conjunto: \", Conjunto)\n",
        "\n",
        "Lista = [\"rock\",\"vallenato\", \"regueton\", \"merenge\", \"pop\", \"rock\", \"regae\", \"rock\"]\n",
        "Conjunto = set(Lista)#Elimina los duplicados\n",
        "print(\"conjunto: \", Conjunto)\n",
        "Conjunto.add(\"electrónica\")\n",
        "print(\"conjunto: \", Conjunto)\n",
        "print(\"vallenato\" in Conjunto)\n",
        "Conjunto.remove(\"vallenato\")\n",
        "print(\"conjunto: \", Conjunto)\n",
        "print(\"vallenato\" in Conjunto)\n",
        "\n",
        "Conjunto1 = {1,2,3,4,5,6}\n",
        "Conjunto2 = {7,8,9,10,11,5,6}\n",
        "Interseccion = Conjunto1 & Conjunto2\n",
        "print(Interseccion)\n",
        "Conjunto3 = Conjunto1.union(Conjunto2)\n",
        "print(Conjunto3)\n",
        "print(Conjunto2.issubset(Conjunto1))\n",
        "print(Conjunto2.issubset(Conjunto3))"
      ],
      "metadata": {
        "colab": {
          "base_uri": "https://localhost:8080/"
        },
        "id": "U3AEZfsGG2sL",
        "outputId": "5e74b803-6747-4d38-d9b3-9427c2c34989"
      },
      "execution_count": null,
      "outputs": [
        {
          "output_type": "stream",
          "name": "stdout",
          "text": [
            "conjunto:  {'vallenato', 'merenge', 'regae', 'rock', 'regueton', 'pop'}\n",
            "conjunto:  {'vallenato', 'merenge', 'regae', 'rock', 'regueton', 'pop'}\n",
            "conjunto:  {'vallenato', 'merenge', 'regae', 'electrónica', 'rock', 'regueton', 'pop'}\n",
            "True\n",
            "conjunto:  {'merenge', 'regae', 'electrónica', 'rock', 'regueton', 'pop'}\n",
            "False\n",
            "{5, 6}\n",
            "{1, 2, 3, 4, 5, 6, 7, 8, 9, 10, 11}\n",
            "False\n",
            "True\n"
          ]
        }
      ]
    },
    {
      "cell_type": "markdown",
      "source": [
        "**Diccionarios**\n",
        "\n",
        "Los diccionarios son un tipo de colección en Python. Las listas tienen índices enteros. Estas son como direcciones. Una lista también tiene elementos. **Un diccionario tiene claves y valores.**\n",
        "La clave es análoga al índice, son como direcciones pero no tienen por qué ser númericas."
      ],
      "metadata": {
        "id": "KDq4Zs7vNlqZ"
      }
    },
    {
      "cell_type": "code",
      "source": [
        "diccionario = {'a': 100, 'b': 200, 'z': 300}\n",
        "print(diccionario['a'])\n",
        "print(diccionario.values())"
      ],
      "metadata": {
        "colab": {
          "base_uri": "https://localhost:8080/"
        },
        "id": "eLA6vpP_NyFn",
        "outputId": "4880d5a3-8492-4da7-cf46-1de6a3e1d11f"
      },
      "execution_count": null,
      "outputs": [
        {
          "output_type": "stream",
          "name": "stdout",
          "text": [
            "100\n",
            "dict_values([100, 200, 300])\n"
          ]
        }
      ]
    }
  ]
}