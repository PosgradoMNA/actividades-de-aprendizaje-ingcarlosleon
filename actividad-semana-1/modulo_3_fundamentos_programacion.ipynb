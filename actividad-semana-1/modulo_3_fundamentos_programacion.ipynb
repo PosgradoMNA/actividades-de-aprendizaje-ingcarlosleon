{
  "nbformat": 4,
  "nbformat_minor": 0,
  "metadata": {
    "colab": {
      "provenance": [],
      "collapsed_sections": [],
      "authorship_tag": "ABX9TyOuceXGnY5zGRkkesV/4Hgw",
      "include_colab_link": true
    },
    "kernelspec": {
      "name": "python3",
      "display_name": "Python 3"
    },
    "language_info": {
      "name": "python"
    }
  },
  "cells": [
    {
      "cell_type": "markdown",
      "metadata": {
        "id": "view-in-github",
        "colab_type": "text"
      },
      "source": [
        "<a href=\"https://colab.research.google.com/github/PosgradoMNA/actividades-de-aprendizaje-ingcarlosleon/blob/main/actividad-semana-1/modulo_3_fundamentos_programacion.ipynb\" target=\"_parent\"><img src=\"https://colab.research.google.com/assets/colab-badge.svg\" alt=\"Open In Colab\"/></a>"
      ]
    },
    {
      "cell_type": "markdown",
      "source": [
        "**Módulo 3 - Fundamentos de programación** \n",
        "\n",
        "**Objetivos de aprendizaje**\n",
        "\n",
        "En esta lección aprenderás sobre:\n",
        "* Condiciones y Ramificación\n",
        "* Bucles\n",
        "* Funciones\n",
        "* Objetos y Clases"
      ],
      "metadata": {
        "id": "_AznhVfNS4ez"
      }
    },
    {
      "cell_type": "markdown",
      "source": [
        "**Operadores de comparación**\n",
        "Los operadores de comparación se utilizan, como su nombre indica, para comparar dos o más valores. El resultado de estos operadores siempre es True o False.\n",
        "\n",
        "Operador& Descripción\n",
        "\n",
        "* \">\" Mayor que. True si el operando de la izquierda es estrictamente mayor que el de la derecha; False en caso contrario.\n",
        "* \">=\"\tMayor o igual que. True si el operando de la izquierda es mayor o igual que el de la derecha; False en caso contrario.\n",
        "* \"<\"\tMenor que. True si el operando de la izquierda es estrictamente menor que el de la derecha; False en caso contrario.\n",
        "* \"<=\"\tMenor o igual que. True si el operando de la izquierda es menor o igual que el de la derecha; False en caso contrario.\n",
        "\"==\"\tIgual. True si el operando de la izquierda es igual que el de la derecha; False en caso contrario.\n",
        "* \"!=\"\tDistinto. True si los operandos son distintos; False en caso contrario.\n",
        "* Tener en cuenta los operadores or y and"
      ],
      "metadata": {
        "id": "82W1ekrRVnqX"
      }
    },
    {
      "cell_type": "code",
      "source": [
        "Variable1 = 1\n",
        "Variable2 = 2\n",
        "print(Variable1==Variable2)\n",
        "\n",
        "if(Variable1 == Variable2):\n",
        " print(\"Igual\")   \n",
        "else: \n",
        "  print(\"No es Igual\")  \n",
        "\n",
        "  "
      ],
      "metadata": {
        "colab": {
          "base_uri": "https://localhost:8080/"
        },
        "id": "hmE8ilT_GZBv",
        "outputId": "8e9a34f2-dede-4969-bd86-b968cbe0f8d2"
      },
      "execution_count": 7,
      "outputs": [
        {
          "output_type": "stream",
          "name": "stdout",
          "text": [
            "False\n",
            "No es Igual\n"
          ]
        }
      ]
    },
    {
      "cell_type": "markdown",
      "source": [
        "**Bucles**\n",
        "\n",
        "* Un bucle for establece la variable iteradora en cada valor de una lista arreglo o cadena proporcionada y repite el código en el cuerpo del bucle for para cada valor de la variable iteradora."
      ],
      "metadata": {
        "id": "z7GNjX9fEYHV"
      }
    },
    {
      "cell_type": "code",
      "source": [
        "# Ejemplo bucle for\n",
        "for i in [1, 2, 3, 4]:\n",
        "    if (i<=3): print(i, end=\", \") # prints: 1, 2, 3,\n",
        "    else: print(i) # prints: 4\n",
        "\n",
        "squares = [\"rojo\",\"azul\",\"gris\",\"negro\",\"amarillo\"]\n",
        "for i in range (0,2): \n",
        " squares[i]=\"blanco\";\n",
        " print(squares)\n",
        "\n",
        "Color = [\"amarillo\",\"amarillo\",\"amarillo\",\"negro\",\"amarillo\"]\n",
        "NuevoColor = []\n",
        "i = 0\n",
        "while (Color[i] == \"amarillo\"):\n",
        "  NuevoColor.append(Color[i])\n",
        "  i=i+1\n",
        "print(\"Color: \",Color)\n",
        "print(\"NuevoColor: \",NuevoColor)\n",
        "\n",
        "A=[3,4,5]\n",
        "for a in A: \n",
        "  print(a)"
      ],
      "metadata": {
        "colab": {
          "base_uri": "https://localhost:8080/"
        },
        "id": "U3AEZfsGG2sL",
        "outputId": "63172288-caa6-47f8-bffe-820f8111e754"
      },
      "execution_count": 36,
      "outputs": [
        {
          "output_type": "stream",
          "name": "stdout",
          "text": [
            "1, 2, 3, 4\n",
            "['blanco', 'azul', 'gris', 'negro', 'amarillo']\n",
            "['blanco', 'blanco', 'gris', 'negro', 'amarillo']\n",
            "Color:  ['amarillo', 'amarillo', 'amarillo', 'negro', 'amarillo']\n",
            "NuevoColor:  ['amarillo', 'amarillo', 'amarillo']\n",
            "3\n",
            "4\n",
            "5\n"
          ]
        }
      ]
    },
    {
      "cell_type": "markdown",
      "source": [
        "**Funciones**\n",
        "\n",
        "Las funciones toman alguna entrada y luego producen alguna salida o cambio.\n",
        "La función es solo un fragmento de código que puede reutilizar.\n",
        "Puede implementar su propia función, pero en muchos casos, utiliza las funciones de otras personas.\n",
        "\n",
        "**Sintaxis**\n",
        "\n",
        "En Python, una definición de función tiene las siguientes características:\n",
        "\n",
        "* La palabra clave def \n",
        "* Un nombre de función\n",
        "* Paréntesis ’()’, y dentro de los paréntesis los parámetros de entrada, aunque los parámetros de entrada sean opcionales.\n",
        "* Dos puntos ’:’\n",
        "* Algún bloque de código para ejecutar\n",
        "* Una sentencia de retorno (opcional)"
      ],
      "metadata": {
        "id": "KDq4Zs7vNlqZ"
      }
    },
    {
      "cell_type": "code",
      "source": [
        "Lista = ['a', 100, 'b', 200, 'z', 300]\n",
        "L = len(Lista)#Funcion\n",
        "print(Lista, \"Largo: \", L)\n",
        "\n",
        "#Creando una función\n",
        "def Mul(a,b):\n",
        "  c = a * b\n",
        "  return c\n",
        "\n",
        "print(\"Llamado función Mul(), la cual retorna el valor de multiplicacón: \", Mul(10, 5))"
      ],
      "metadata": {
        "colab": {
          "base_uri": "https://localhost:8080/"
        },
        "id": "eLA6vpP_NyFn",
        "outputId": "4988f74a-c93a-48c5-cbac-e1284a22a487"
      },
      "execution_count": 53,
      "outputs": [
        {
          "output_type": "stream",
          "name": "stdout",
          "text": [
            "['a', 100, 'b', 200, 'z', 300] Largo:  6\n",
            "Llamado función Mul(), la cual retorna el valor de multiplicacón:  50\n"
          ]
        }
      ]
    },
    {
      "cell_type": "markdown",
      "source": [
        "**Objetos y clases**\n",
        "\n",
        "Todo objeto tiene lo siguiente: un tipo, una representación interna, un conjunto de funciones llamadas métodos para interactuar con los datos. **Un objeto es una instancia de un tipo particular de dato, clase, etc**.\n",
        "\n",
        "**Contexto**\n",
        "\n",
        "* Las clases proveen una forma de empaquetar datos y funcionalidad juntos.\n",
        "* La clase tiene atributos de datos. La clase tiene métodos.\n",
        "* Luego creamos una instancia o instancias de esa clase u objetos.\n",
        "* Cada vez que creamos un tipo de dato ya sea entero, lista, etc., estamos creando un objetio, es decir una instancia de este tipo de dato.\n",
        "* Los métodos son funciones que interactúan y cambian los atributos de datos, cambiando o usando los atributos de datos del objeto.\n",
        "* Podemos averiguar el tipo de un objeto usando el comando de tipo().\n",
        "* Los métodos de una clase o tipo son funciones\n",
        "* Documentación complementaria: https://docs.python.org/es/3/tutorial/classes.html"
      ],
      "metadata": {
        "id": "dC9ge4KzhxHD"
      }
    },
    {
      "cell_type": "code",
      "source": [
        "#Algunos ejemplos de creación de clases\n",
        "\n",
        "class Circulo(object):\n",
        "  #La función \"in-it\" es un constructor. Es una función especial que le dice a Python que estas creando una nueva clase\n",
        "  #El parámetro 'self' se refiere a la instancia recién creada de la clase.\n",
        "  def __init__(self, radio, color):#Constructor de la clase  \n",
        "    self.radio = radio\n",
        "    self.color = color\n",
        "  def AdicionarRadio(self, r):\n",
        "    self.radio = self.radio + r\n",
        "\n",
        "class Rectangulo(object):#Se definie la clase\n",
        "  def __init__(self, color, alto, ancho):#Constructor de la clase  \n",
        "    self.color = color #Se inicializan los atributos\n",
        "    self.alto = alto\n",
        "    self.ancho = ancho\n",
        "    \n",
        "\"\"\"\n",
        "Nombre del objeto: CirculoRojo, Circulo(10, \"rojo\") es el constructor de objetos \n",
        "el cual consta del nombre de la clase, así como de los parámetros o atributos.\n",
        "\"\"\"\n",
        "CirculoRojo = Circulo(10, \"rojo\")\n",
        "print(\"Atributos del objeto: \",CirculoRojo.radio, \" - \", CirculoRojo.color)\n",
        "CirculoRojo.AdicionarRadio(20)\n",
        "print(\"Nuevos atributos del objeto: \",CirculoRojo.radio, \" - \", CirculoRojo.color)\n",
        "\"\"\"\n",
        "La función “DIR” es útil para obtener la lista de atributos de datos y métodos\n",
        "asociados con una clase El objeto que le interesa se pasa como argumento. El\n",
        "valor de retorno es una lista de ese objeto.\n",
        "\"\"\"\n",
        "print(dir(CirculoRojo))\n",
        "\n",
        "A = ['1','2','3']\n",
        "for a in A: print(2*a)\n",
        "\n",
        "x=1\n",
        "if(x!=1): print('Hello')\n",
        "else: print('Hi')\n",
        "print('Mike')"
      ],
      "metadata": {
        "colab": {
          "base_uri": "https://localhost:8080/"
        },
        "id": "pcKNfJ0Xiqzc",
        "outputId": "641aaae6-1647-4dee-961e-9e6131b13db1"
      },
      "execution_count": 82,
      "outputs": [
        {
          "output_type": "stream",
          "name": "stdout",
          "text": [
            "Atributos del objeto:  10  -  rojo\n",
            "Nuevos atributos del objeto:  30  -  rojo\n",
            "['AdicionarRadio', '__class__', '__delattr__', '__dict__', '__dir__', '__doc__', '__eq__', '__format__', '__ge__', '__getattribute__', '__gt__', '__hash__', '__init__', '__init_subclass__', '__le__', '__lt__', '__module__', '__ne__', '__new__', '__reduce__', '__reduce_ex__', '__repr__', '__setattr__', '__sizeof__', '__str__', '__subclasshook__', '__weakref__', 'color', 'radio']\n",
            "11\n",
            "22\n",
            "33\n",
            "Hi\n",
            "Mike\n"
          ]
        }
      ]
    }
  ]
}