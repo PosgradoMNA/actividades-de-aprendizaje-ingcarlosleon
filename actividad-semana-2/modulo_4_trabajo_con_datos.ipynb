{
  "nbformat": 4,
  "nbformat_minor": 0,
  "metadata": {
    "colab": {
      "provenance": [],
      "mount_file_id": "1i4Y7eRAjy0gIjvlvsGJA8-DGfW5TVBu4",
      "authorship_tag": "ABX9TyNHwaKBlmW6Q6Muu14WjIP1",
      "include_colab_link": true
    },
    "kernelspec": {
      "name": "python3",
      "display_name": "Python 3"
    },
    "language_info": {
      "name": "python"
    }
  },
  "cells": [
    {
      "cell_type": "markdown",
      "metadata": {
        "id": "view-in-github",
        "colab_type": "text"
      },
      "source": [
        "<a href=\"https://colab.research.google.com/github/PosgradoMNA/actividades-de-aprendizaje-ingcarlosleon/blob/main/actividad-semana-2/modulo_4_trabajo_con_datos.ipynb\" target=\"_parent\"><img src=\"https://colab.research.google.com/assets/colab-badge.svg\" alt=\"Open In Colab\"/></a>"
      ]
    },
    {
      "cell_type": "markdown",
      "source": [
        "**Carlos Julio León Caicedo - No. de matricula: A01793947**\n",
        "\n",
        "**Módulo 4 - Trabajar con datos en Python**\n",
        "\n",
        "En esta lección se aprenderá sobre:\n",
        "\n",
        "*   Lectura de archivos con abierto\n",
        "*   Escribir archivos con abierto\n",
        "*   Cargando datos con Pandas\n",
        "*   Trabajar y guardar datos con Pandas"
      ],
      "metadata": {
        "id": "Vta_2Td1hUrG"
      }
    },
    {
      "cell_type": "markdown",
      "source": [
        "**Leyendo archivos con Python**\n",
        "\n",
        "El archivo **Example1.txt** se almacenó en la ruta relativa de mi usuario en Google Colab y se ejecutó perfectamente como se evidencia en el siguiente pantallazo."
      ],
      "metadata": {
        "id": "k8noS9DDp28S"
      }
    },
    {
      "cell_type": "code",
      "execution_count": 11,
      "metadata": {
        "colab": {
          "base_uri": "https://localhost:8080/"
        },
        "id": "UJvKT_m6TUBs",
        "outputId": "314226c5-6c50-47cb-9802-736822742eb3"
      },
      "outputs": [
        {
          "output_type": "stream",
          "name": "stdout",
          "text": [
            "Drive already mounted at /content/drive; to attempt to forcibly remount, call drive.mount(\"/content/drive\", force_remount=True).\n"
          ]
        }
      ],
      "source": [
        "from google.colab import drive # montar Google Drive\n",
        "drive.mount('/content/drive')\n",
        "\n",
        "# Read the Example1.txt, este archivo se almaeceno en la ruta relativa de mi usuario en Google Colab\n",
        "example1 = \"/content/drive/MyDrive/Colab Notebooks/1. Curso ciencia y analítica/actividad 2 - trabajo con datos/Example1.txt\"\n",
        "file1 = open(example1, \"r\")"
      ]
    },
    {
      "cell_type": "code",
      "source": [
        "# Print the path of file\n",
        "\n",
        "file1.name"
      ],
      "metadata": {
        "colab": {
          "base_uri": "https://localhost:8080/",
          "height": 36
        },
        "id": "GXRnFQfjpBwu",
        "outputId": "b59045b8-c34e-422d-a78e-31f0b5a8eadd"
      },
      "execution_count": 12,
      "outputs": [
        {
          "output_type": "execute_result",
          "data": {
            "text/plain": [
              "'/content/drive/MyDrive/Colab Notebooks/1. Curso ciencia y analítica/actividad 2 - trabajo con datos/Example1.txt'"
            ],
            "application/vnd.google.colaboratory.intrinsic+json": {
              "type": "string"
            }
          },
          "metadata": {},
          "execution_count": 12
        }
      ]
    },
    {
      "cell_type": "code",
      "source": [
        "# Print the mode of file, either 'r' or 'w'\n",
        "\n",
        "file1.mode"
      ],
      "metadata": {
        "colab": {
          "base_uri": "https://localhost:8080/",
          "height": 36
        },
        "id": "9S7X3jw6pG01",
        "outputId": "e0f074dc-4b17-416b-e19a-8145c5ba7ce6"
      },
      "execution_count": 13,
      "outputs": [
        {
          "output_type": "execute_result",
          "data": {
            "text/plain": [
              "'r'"
            ],
            "application/vnd.google.colaboratory.intrinsic+json": {
              "type": "string"
            }
          },
          "metadata": {},
          "execution_count": 13
        }
      ]
    },
    {
      "cell_type": "code",
      "source": [
        "# Read the file\n",
        "\n",
        "FileContent = file1.read()\n",
        "FileContent"
      ],
      "metadata": {
        "colab": {
          "base_uri": "https://localhost:8080/",
          "height": 36
        },
        "id": "UybJUx2ppKAe",
        "outputId": "0a456bf5-8754-44ad-efe1-9fc40804ffd1"
      },
      "execution_count": 14,
      "outputs": [
        {
          "output_type": "execute_result",
          "data": {
            "text/plain": [
              "'This is line 1 \\nThis is line 2\\nThis is line 3'"
            ],
            "application/vnd.google.colaboratory.intrinsic+json": {
              "type": "string"
            }
          },
          "metadata": {},
          "execution_count": 14
        }
      ]
    },
    {
      "cell_type": "code",
      "source": [
        "# Print the file with '\\n' as a new line\n",
        "\n",
        "print(FileContent)"
      ],
      "metadata": {
        "colab": {
          "base_uri": "https://localhost:8080/"
        },
        "id": "4R2uE7u-pRLh",
        "outputId": "afd4df23-4815-45a7-8fbb-808b3fd3355a"
      },
      "execution_count": 15,
      "outputs": [
        {
          "output_type": "stream",
          "name": "stdout",
          "text": [
            "This is line 1 \n",
            "This is line 2\n",
            "This is line 3\n"
          ]
        }
      ]
    },
    {
      "cell_type": "code",
      "source": [
        "# Close file after finish\n",
        "\n",
        "file1.close()"
      ],
      "metadata": {
        "id": "OUOdM4NipUqm"
      },
      "execution_count": 16,
      "outputs": []
    }
  ]
}